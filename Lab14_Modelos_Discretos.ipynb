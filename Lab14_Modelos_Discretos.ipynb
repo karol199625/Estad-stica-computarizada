{
  "nbformat": 4,
  "nbformat_minor": 0,
  "metadata": {
    "colab": {
      "provenance": [],
      "include_colab_link": true
    },
    "kernelspec": {
      "name": "python3",
      "display_name": "Python 3"
    },
    "language_info": {
      "name": "python"
    }
  },
  "cells": [
    {
      "cell_type": "markdown",
      "metadata": {
        "id": "view-in-github",
        "colab_type": "text"
      },
      "source": [
        "<a href=\"https://colab.research.google.com/github/karol199625/Estad-stica-computarizada/blob/main/Lab14_Modelos_Discretos.ipynb\" target=\"_parent\"><img src=\"https://colab.research.google.com/assets/colab-badge.svg\" alt=\"Open In Colab\"/></a>"
      ]
    },
    {
      "cell_type": "markdown",
      "source": [
        "# **Laboratorio 14. Modelos Probabilisticos Discretos**\n",
        "## **Escribe tu Nombre**\n",
        "### **Debes compartir el Informe final al email: juliohurtado210307@gmail.com**\n",
        "### **Video de Youtube:  https://youtu.be/E1moErOrF1Y**"
      ],
      "metadata": {
        "id": "ocWQPjT_qgHl"
      }
    },
    {
      "cell_type": "markdown",
      "source": [
        "# **Tema principal: Modelos Probabiliticos Discretos**\n",
        "+ _Los modelos probabilísticos discretos se utilizan para describir experimentos aleatorios donde los resultados posibles son un conjunto finito o infinito numerable de valores. Aquí tienes una breve descripción de algunos modelos discretos y ejemplos asociados a cada uno:_\n"
      ],
      "metadata": {
        "id": "YyO3H4PyqcRF"
      }
    },
    {
      "cell_type": "markdown",
      "source": [
        "\n",
        "### 1. **Distribución Binomial**\n",
        "La distribución binomial modela el número de éxitos en una secuencia de $n$ ensayos independientes de Bernoulli, donde cada ensayo tiene dos posibles resultados: éxito o fracaso, y la probabilidad de éxito es $p$.\n",
        "\n",
        "- **Función de probabilidad**: $$P(X = k) = \\binom{n}{k} p^k (1 - p)^{n - k}$$\n",
        "$$\\binom{n}{k} = \\frac{n!}{k!(n-k)!}$$\n",
        "- **Parámetros**:$n$ es el número de ensayos y $p$ es la probabilidad de éxito en cada ensayo.\n",
        "\n",
        "\n",
        "### **Distribución Binomial - Momentos**\n",
        "- **Valor esperado (Esperanza)**: $$E(X) = n \\cdot p$$\n",
        "- **Varianza**: $$\\text{Var}(X) = n \\cdot p \\cdot (1 - p)$$\n",
        "- **Desviación estándar**: $$\\sigma(X) = \\sqrt{n \\cdot p \\cdot (1 - p)}$$\n",
        "\n"
      ],
      "metadata": {
        "id": "tayHGTvXreFs"
      }
    },
    {
      "cell_type": "code",
      "source": [
        "import numpy as np\n",
        "import matplotlib.pyplot as plt\n",
        "from scipy.stats import binom, nbinom, poisson, hypergeom, randint\n",
        "\n",
        "# @title **Para Graficar cualquier distribucion discreta**\n",
        "def plot_distribution(dist, values, pmf, title):\n",
        "    plt.bar(values, pmf)\n",
        "    plt.title(title)\n",
        "    plt.xlabel('Valores')\n",
        "    plt.ylabel('Probabilidad')\n",
        "    plt.show()\n"
      ],
      "metadata": {
        "id": "vdU5lkhmxX9W"
      },
      "execution_count": 5,
      "outputs": []
    },
    {
      "cell_type": "code",
      "source": [
        "# @title **1. Gráfica de la Distribución Binomial con Función de probabilidad**: $$P(X = k) = \\binom{n}{k} p^k (1 - p)^{n - k}$$\n",
        "n, p = 10, 0.5\n",
        "x_binom = np.arange(0, n + 1)\n",
        "pmf_binom = binom.pmf(x_binom, n, p)\n",
        "plot_distribution(binom, x_binom, pmf_binom, \"Distribución Binomial\")\n"
      ],
      "metadata": {
        "colab": {
          "base_uri": "https://localhost:8080/",
          "height": 472
        },
        "id": "lPQ1oQF0xwht",
        "outputId": "9ebb89fb-540a-4666-c44a-13739fa9ab0b"
      },
      "execution_count": 6,
      "outputs": [
        {
          "output_type": "display_data",
          "data": {
            "text/plain": [
              "<Figure size 640x480 with 1 Axes>"
            ],
            "image/png": "[encoded data removed]"
          },
          "metadata": {}
        }
      ]
    },
    {
      "cell_type": "markdown",
      "source": [
        "\n",
        "#### **Ejemplo 1: - Distribución Binomial**\n",
        "+ *Supongamos que lanzamos una moneda justa (probabilidad de éxito $p = 0.5$, $n =10$ veces. ¿Cuál es la probabilidad de obtener exactamente 6 caras?*"
      ],
      "metadata": {
        "id": "SX7vkjW5xxDU"
      }
    },
    {
      "cell_type": "code",
      "source": [
        "# @title **Solución ejemplo 1. Binomial -Función de probabilidad**: $$P(X = k) = \\binom{n}{k} p^k (1 - p)^{n - k}$$\n",
        "from scipy.stats import binom\n",
        "\n",
        "# Parámetros\n",
        "n = 10  # Número de ensayos\n",
        "p = 0.5  # Probabilidad de éxito\n",
        "k = 6  # Número de éxitos\n",
        "\n",
        "# Probabilidad de obtener exactamente 6 caras\n",
        "prob_binom_1 = binom.pmf(k, n, p)\n",
        "print(f\"Probabilidad de obtener exactamente 6 caras: P(X = 6) = {prob_binom_1:.4f}\")\n"
      ],
      "metadata": {
        "colab": {
          "base_uri": "https://localhost:8080/"
        },
        "id": "jUE68a8IzG60",
        "outputId": "0bb0e161-4f23-4fb8-fb7b-c91d8dda32fb"
      },
      "execution_count": 7,
      "outputs": [
        {
          "output_type": "stream",
          "name": "stdout",
          "text": [
            "Probabilidad de obtener exactamente 6 caras: P(X = 6) = 0.2051\n"
          ]
        }
      ]
    },
    {
      "cell_type": "code",
      "source": [
        "# @title **Momentos Modelo Binomial**\n",
        "n = 10\n",
        "p = 0.5\n",
        "esperanza_binom = n * p\n",
        "varianza_binom = n * p * (1 - p)\n",
        "desviacion_binom = np.sqrt(varianza_binom)\n",
        "print(f\"Momentos en el Modelo Binomial\")\n",
        "print(f\"Esperanza:E(X) = {n}{p}= {esperanza_binom}\")\n",
        "print(f\"Varianza: V(X) = {n} * {p} * {(1 - p)} = {varianza_binom}\")\n",
        "print(f\"Desviación estándar: {desviacion_binom}\")\n"
      ],
      "metadata": {
        "colab": {
          "base_uri": "https://localhost:8080/"
        },
        "id": "OZXpx74d8rvH",
        "outputId": "898c765f-9686-4b6d-c23d-d66e73815532"
      },
      "execution_count": 8,
      "outputs": [
        {
          "output_type": "stream",
          "name": "stdout",
          "text": [
            "Momentos en el Modelo Binomial\n",
            "Esperanza:E(X) = 100.5= 5.0\n",
            "Varianza: V(X) = 10 * 0.5 * 0.5 = 2.5\n",
            "Desviación estándar: 1.5811388300841898\n"
          ]
        }
      ]
    },
    {
      "cell_type": "markdown",
      "source": [
        "\n",
        "#### **Ejemplo 2: Distribución Binomial - Debes realizarlo en este Laboratorio**\n",
        "+ *En un control de calidad, se seleccionan $n=5$ piezas de un lote. La probabilidad de que una pieza esté defectuosa es $p=0.1$. ¿Cuál es la probabilidad de encontrar exactamente 1 pieza defectuosa?*\n"
      ],
      "metadata": {
        "id": "pFKvOQpask8e"
      }
    },
    {
      "cell_type": "markdown",
      "source": [
        "\n",
        "### 2. **Distribución Binomial Negativa**\n",
        "+ *La distribución binomial negativa modela el número de ensayos requeridos para obtener un número fijo de éxitos $r$ en ensayos independientes de Bernoulli, donde la probabilidad de éxito es $p$.*\n",
        "\n",
        "- **Función de probabilidad**: $$P(X = k) = \\binom{k + r - 1}{r - 1} p^r (1 - p)^k$$\n",
        "- **Parámetros**:$r$ es el número de éxitos deseados, $p$ es la probabilidad de éxito y $k$ es el número de fracasos antes de obtener $r$ éxitos.\n",
        "\n",
        "### **Distribución Binomial Negativa - Momentos**\n",
        "- **Valor esperado (Esperanza)**: $$E(X) = \\frac{r(1 - p)}{p}$$\n",
        "- **Varianza**: $$\\text{Var}(X) = \\frac{r(1 - p)}{p^2}$$\n",
        "- **Desviación estándar**: $$\\sigma(X) = \\sqrt{\\frac{r(1 - p)}{p^2}}$$\n",
        "\n"
      ],
      "metadata": {
        "id": "szIvi7dSriNM"
      }
    },
    {
      "cell_type": "code",
      "source": [
        "# @title **Gráfica de la Distribución Binomial Negativa** $$P(X = k) = \\binom{k + r - 1}{r - 1} p^r (1 - p)^k$$\n",
        "r, p = 5, 0.7\n",
        "x_nbinom = np.arange(0, 20)\n",
        "pmf_nbinom = nbinom.pmf(x_nbinom, r, p)\n",
        "plot_distribution(nbinom, x_nbinom, pmf_nbinom, \"Distribución Binomial Negativa\")\n"
      ],
      "metadata": {
        "colab": {
          "base_uri": "https://localhost:8080/",
          "height": 472
        },
        "id": "095dwMWixuNv",
        "outputId": "84f55680-c20a-4b2d-c32d-0b0972a0f0ed"
      },
      "execution_count": 9,
      "outputs": [
        {
          "output_type": "display_data",
          "data": {
            "text/plain": [
              "<Figure size 640x480 with 1 Axes>"
            ],
            "image/png": "[encoded data removed]"
          },
          "metadata": {}
        }
      ]
    },
    {
      "cell_type": "markdown",
      "source": [
        "\n",
        "#### **Ejemplo 1:- Distribución Binomial Negativa**\n",
        "+ *¿Cuál es la probabilidad de obtener 5 éxitos antes de 3 fracasos si la probabilidad de éxito es $p = 0.7$?*\n"
      ],
      "metadata": {
        "id": "UPxkifL31em1"
      }
    },
    {
      "cell_type": "code",
      "source": [
        "# @title **2. Solución Ejemplo 1 -Distribución Binomial negativa** $$P(X = k) = \\binom{k + r - 1}{r - 1} p^r (1 - p)^k$$\n",
        "\n",
        "from scipy.stats import nbinom\n",
        "\n",
        "# Parámetros\n",
        "r = 5  # Número de éxitos\n",
        "p = 0.7  # Probabilidad de éxito\n",
        "k = 3  # Número de fracasos antes de obtener 5 éxitos\n",
        "\n",
        "# Probabilidad\n",
        "prob_nbinom_1 = nbinom.pmf(k, r, p)\n",
        "print(f\"Probabilidad de obtener 5 éxitos antes de 3 fracasos: P(X=5) = {prob_nbinom_1:.4f}\")\n"
      ],
      "metadata": {
        "colab": {
          "base_uri": "https://localhost:8080/"
        },
        "id": "VlhOlOmV2lD-",
        "outputId": "16a5db1e-3453-4352-8cb8-3cba09c3be33"
      },
      "execution_count": 10,
      "outputs": [
        {
          "output_type": "stream",
          "name": "stdout",
          "text": [
            "Probabilidad de obtener 5 éxitos antes de 3 fracasos: P(X=5) = 0.1588\n"
          ]
        }
      ]
    },
    {
      "cell_type": "code",
      "source": [
        "# @title **Momentos Modelo Binomial Negativo**\n",
        "r = 5\n",
        "p = 0.7\n",
        "esperanza_nbinom = r * (1 - p) / p\n",
        "varianza_nbinom = r * (1 - p) / (p ** 2)\n",
        "desviacion_nbinom = np.sqrt(varianza_nbinom)\n",
        "print(f\"Momentos en el Modelo Binomial Negativo\")\n",
        "print(f\"Esperanza:E(X) =  {esperanza_nbinom}\")\n",
        "print(f\"Varianza: V(X) =  {varianza_nbinom}\")\n",
        "print(f\"Desviación estándar: {desviacion_nbinom}\")"
      ],
      "metadata": {
        "colab": {
          "base_uri": "https://localhost:8080/"
        },
        "id": "rWcMI6O99Y_G",
        "outputId": "23575136-d11a-486e-c922-f6e4ac1a0404"
      },
      "execution_count": 11,
      "outputs": [
        {
          "output_type": "stream",
          "name": "stdout",
          "text": [
            "Momentos en el Modelo Binomial Negativo\n",
            "Esperanza:E(X) =  2.1428571428571432\n",
            "Varianza: V(X) =  3.061224489795919\n",
            "Desviación estándar: 1.7496355305594131\n"
          ]
        }
      ]
    },
    {
      "cell_type": "markdown",
      "source": [
        "\n",
        "#### **Ejemplo 2. -Distribución Binomial Negativa: Debes realizarlo en este Laboratorio**\n",
        "+ *Si lanzamos un dado con probabilidad de éxito $p = 1/6$, ¿cuál es la probabilidad de obtener 2 éxitos antes de obtener 4 fracasos?*\n"
      ],
      "metadata": {
        "id": "dHRB3AipvBBv"
      }
    },
    {
      "cell_type": "markdown",
      "source": [
        "\n",
        "### 3. **Distribución de Poisson**\n",
        "+ *La distribución de Poisson modela el número de eventos que ocurren en un intervalo de tiempo o espacio, bajo la suposición de que los eventos ocurren con una tasa constante y de forma independiente entre sí.*\n",
        "\n",
        "- **Función de probabilidad**: $$P(X = k) = \\frac{\\lambda^k e^{-\\lambda}}{k!}$$\n",
        "- **Parámetros**: $\\lambda$ es la tasa promedio de ocurrencia de eventos en el intervalo de tiempo o espacio.\n",
        "\n",
        "\n",
        "### **Distribución de Poisson - Momentos**\n",
        "- **Valor esperado (Esperanza)**: $$E(X) = \\lambda$$\n",
        "- **Varianza**: $$\\text{Var}(X) = \\lambda$$\n",
        "- **Desviación estándar**: $$\\sigma(X) = \\sqrt{\\lambda}$$\n",
        "\n",
        "\n"
      ],
      "metadata": {
        "id": "Fv8TSBcVrrO1"
      }
    },
    {
      "cell_type": "code",
      "source": [
        "# @title **Gráfica de la Distribución de Poisson** $$P(X = k) = \\frac{\\lambda^k e^{-\\lambda}}{k!}$$\n",
        "lambda_poisson = 2\n",
        "x_poisson = np.arange(0, 10)\n",
        "pmf_poisson = poisson.pmf(x_poisson, lambda_poisson)\n",
        "plot_distribution(poisson, x_poisson, pmf_poisson, \"Distribución de Poisson\")\n"
      ],
      "metadata": {
        "colab": {
          "base_uri": "https://localhost:8080/",
          "height": 472
        },
        "id": "5W0lQ-hz4DOd",
        "outputId": "207ac17a-0273-4585-806a-10638b32c5ae"
      },
      "execution_count": 12,
      "outputs": [
        {
          "output_type": "display_data",
          "data": {
            "text/plain": [
              "<Figure size 640x480 with 1 Axes>"
            ],
            "image/png": "[encoded data removed]"
          },
          "metadata": {}
        }
      ]
    },
    {
      "cell_type": "markdown",
      "source": [
        "\n",
        "#### **Ejemplo 1: Distribución de Poisson**\n",
        "+ *Una central telefónica recibe en promedio 2 llamadas por minuto. ¿Cuál es la probabilidad de que en un minuto se reciban exactamente 3 llamadas?*\n"
      ],
      "metadata": {
        "id": "8sMWVP194BRo"
      }
    },
    {
      "cell_type": "code",
      "source": [
        "# @title  **Solución Ejemplo 1: Distribución de Poisson** $$P(X = k) = \\frac{\\lambda^k e^{-\\lambda}}{k!}$$\n",
        "from scipy.stats import poisson\n",
        "\n",
        "# Parámetros\n",
        "lambda_poisson = 2  # Tasa promedio de ocurrencia\n",
        "k = 3  # Número de eventos (llamadas)\n",
        "\n",
        "# Probabilidad\n",
        "prob_poisson_1 = poisson.pmf(k, lambda_poisson)\n",
        "print(f\"Probabilidad de recibir exactamente 3 llamadas:P(X=3) = {prob_poisson_1:.4f}\")\n"
      ],
      "metadata": {
        "colab": {
          "base_uri": "https://localhost:8080/"
        },
        "id": "nMR3b_CA4c1S",
        "outputId": "964a4d76-4275-48cb-97e0-f71083d311ab"
      },
      "execution_count": 13,
      "outputs": [
        {
          "output_type": "stream",
          "name": "stdout",
          "text": [
            "Probabilidad de recibir exactamente 3 llamadas:P(X=3) = 0.1804\n"
          ]
        }
      ]
    },
    {
      "cell_type": "code",
      "source": [
        "# @title  **Momentos en el modelo de Poisson**\n",
        "lambda_poisson = 2\n",
        "esperanza_poisson = lambda_poisson\n",
        "varianza_poisson = lambda_poisson\n",
        "desviacion_poisson = np.sqrt(varianza_poisson)\n",
        "\n",
        "print(f\"Momentos en el Modelo de Poisson\")\n",
        "print(f\"Esperanza:E(X) =  {esperanza_poisson}\")\n",
        "print(f\"Varianza: V(X) =  {varianza_poisson}\")\n",
        "print(f\"Desviación estándar: {desviacion_poisson}\")\n"
      ],
      "metadata": {
        "colab": {
          "base_uri": "https://localhost:8080/"
        },
        "id": "6MdXoZBV-QK4",
        "outputId": "b6a20a60-8a88-4fc8-e4c9-8aa80ea17c1c"
      },
      "execution_count": 14,
      "outputs": [
        {
          "output_type": "stream",
          "name": "stdout",
          "text": [
            "Momentos en el Modelo de Poisson\n",
            "Esperanza:E(X) =  2\n",
            "Varianza: V(X) =  2\n",
            "Desviación estándar: 1.4142135623730951\n"
          ]
        }
      ]
    },
    {
      "cell_type": "markdown",
      "source": [
        "\n",
        "#### **Ejemplo 2: Distribución de Poisson - Debes realizarlo en este Laboratorio**\n",
        "+ *En una intersección, se observa que en promedio ocurren 5 accidentes al mes. ¿Cuál es la probabilidad de que en un mes ocurra 1 accidente?*"
      ],
      "metadata": {
        "id": "pFxKO9ZwvEA1"
      }
    },
    {
      "cell_type": "markdown",
      "source": [
        "\n",
        "### 4. **Distribución Hipergeométrica**\n",
        "+ *La distribución hipergeométrica modela el número de éxitos en una muestra de tamaño \\(n\\) tomada sin reemplazo de una población de tamaño \\(N\\), que contiene \\(K\\) éxitos y \\(N - K\\) fracasos.*\n",
        "\n",
        "- **Función de probabilidad**: $$P(X = k) = \\frac{\\binom{K}{k} \\binom{N-K}{n-k}}{\\binom{N}{n}}$$\n",
        "- **Parámetros**: \\(N\\) es el tamaño de la población, \\(K\\) es el número de éxitos en la población, \\(n\\) es el tamaño de la muestra, y \\(k\\) es el número de éxitos en la muestra.\n",
        "\n",
        "### **Distribución Hipergeométrica - Momentos**\n",
        "- **Valor esperado (Esperanza)**: $$E(X) = n \\cdot \\frac{K}{N}$$\n",
        "- **Varianza**: $$\\text{Var}(X) = n \\cdot \\frac{K}{N} \\cdot \\frac{N - K}{N} \\cdot \\frac{N - n}{N - 1}$$\n",
        "- **Desviación estándar**: $$\\sigma(X) = \\sqrt{\\text{Var}(X)}$$\n",
        "\n",
        "\n"
      ],
      "metadata": {
        "id": "eHkAsH0mruWs"
      }
    },
    {
      "cell_type": "code",
      "source": [
        "\n",
        "# @title **Gráfica de la Distribución Hipergeométrica** $$P(X = k) = \\frac{\\binom{K}{k} \\binom{N-K}{n-k}}{\\binom{N}{n}}$$\n",
        "N, K, n = 30, 10, 5\n",
        "x_hyper = np.arange(0, n + 1)\n",
        "pmf_hyper = hypergeom.pmf(x_hyper, N, K, n)\n",
        "plot_distribution(hypergeom, x_hyper, pmf_hyper, \"Distribución Hipergeométrica\")\n"
      ],
      "metadata": {
        "colab": {
          "base_uri": "https://localhost:8080/",
          "height": 472
        },
        "id": "bqNVzJaI2JXM",
        "outputId": "149664c8-4891-4b6e-bfc5-9a2736cd4d16"
      },
      "execution_count": 15,
      "outputs": [
        {
          "output_type": "display_data",
          "data": {
            "text/plain": [
              "<Figure size 640x480 with 1 Axes>"
            ],
            "image/png": "[encoded data removed]"
          },
          "metadata": {}
        }
      ]
    },
    {
      "cell_type": "markdown",
      "source": [
        "\n",
        "#### **Ejemplo 1:- Distribución Hipergeométrica**\n",
        "+ *Una urna contiene 10 bolas rojas y 20 bolas azules. Se seleccionan 5 bolas sin reemplazo. ¿Cuál es la probabilidad de seleccionar exactamente 3 bolas rojas?*"
      ],
      "metadata": {
        "id": "m34rbVjH5NSX"
      }
    },
    {
      "cell_type": "code",
      "source": [
        "# @title **Solución Ejemplo 1:- Distribución Hipergeométrica** $$P(X = k) = \\frac{\\binom{K}{k} \\binom{N-K}{n-k}}{\\binom{N}{n}}$$\n",
        "from scipy.stats import hypergeom\n",
        "\n",
        "# Parámetros\n",
        "N = 30  # Tamaño de la población (total de bolas)\n",
        "K = 10  # Número de éxitos en la población (bolas rojas)\n",
        "n = 5  # Tamaño de la muestra\n",
        "k = 3  # Número de éxitos en la muestra (bolas rojas)\n",
        "\n",
        "# Probabilidad\n",
        "prob_hyper_1 = hypergeom.pmf(k, N, K, n)\n",
        "print(f\"Probabilidad de seleccionar exactamente 3 bolas rojas: P(X=3)={prob_hyper_1:.4f}\")\n"
      ],
      "metadata": {
        "colab": {
          "base_uri": "https://localhost:8080/"
        },
        "id": "lSbD6Dou5nmg",
        "outputId": "42079e31-58b1-43a2-b2d5-3f09fe9763eb"
      },
      "execution_count": 16,
      "outputs": [
        {
          "output_type": "stream",
          "name": "stdout",
          "text": [
            "Probabilidad de seleccionar exactamente 3 bolas rojas: P(X=3)=0.1600\n"
          ]
        }
      ]
    },
    {
      "cell_type": "code",
      "source": [
        "# @title  **Momentos en el modelo Hipergeométrico**\n",
        "N = 30  # Tamaño de la población\n",
        "K = 10  # Éxitos en la población\n",
        "n = 5   # Tamaño de la muestra\n",
        "\n",
        "esperanza_hyper = n * (K / N)\n",
        "varianza_hyper = n * (K / N) * ((N - K) / N) * ((N - n) / (N - 1))\n",
        "desviacion_hyper = np.sqrt(varianza_hyper)\n",
        "\n",
        "print(f\"Momentos en el Modelo Hipergeométrico\")\n",
        "print(f\"Esperanza:E(X) =  {esperanza_hyper}\")\n",
        "print(f\"Varianza: V(X) =  {varianza_hyper}\")\n",
        "print(f\"Desviación estándar: {desviacion_hyper}\")"
      ],
      "metadata": {
        "colab": {
          "base_uri": "https://localhost:8080/"
        },
        "id": "r4UruGDs-loN",
        "outputId": "ee4e7f1d-e29b-44a6-89a7-7787adeff531"
      },
      "execution_count": 17,
      "outputs": [
        {
          "output_type": "stream",
          "name": "stdout",
          "text": [
            "Momentos en el Modelo Hipergeométrico\n",
            "Esperanza:E(X) =  1.6666666666666665\n",
            "Varianza: V(X) =  0.957854406130268\n",
            "Desviación estándar: 0.978700365857839\n"
          ]
        }
      ]
    },
    {
      "cell_type": "markdown",
      "source": [
        "\n",
        "#### **Ejemplo 2: - Distribución Hipergeométrica- Debes realizarlo en este Laboratorio**\n",
        "En una fábrica, de un lote de 50 productos, 8 son defectuosos. Si se seleccionan 10 productos al azar, ¿cuál es la probabilidad de que 2 productos sean defectuosos?\n"
      ],
      "metadata": {
        "id": "Z8r3uL-rvw0_"
      }
    },
    {
      "cell_type": "code",
      "source": [
        "# @title **Solución Ejemplo 2:- Distribución Hipergeométrica** $$P(X = k) = \\frac{\\binom{K}{k} \\binom{N-K}{n-k}}{\\binom{N}{n}}$$\n",
        "from scipy.stats import hypergeom\n",
        "\n",
        "# Parámetros\n",
        "N = 50  # Tamaño de la población (productos)\n",
        "K = 8  # Número de éxitos en la población (defectuosos)\n",
        "n = 10  # Tamaño de la muestra\n",
        "k = 2  # Número de éxitos en la muestra (defectuosos)\n",
        "\n",
        "# Probabilidad\n",
        "prob_hyper_1 = hypergeom.pmf(k, N, K, n)\n",
        "print(f\"Probabilidad de seleccionar exactamente 2  defectuosos: P(X=2)={prob_hyper_1:.4f}\")"
      ],
      "metadata": {
        "id": "VnR2qpL2gpQ8",
        "outputId": "fd5b6a3b-ef28-4f2a-9b88-d1c41b4ff044",
        "colab": {
          "base_uri": "https://localhost:8080/"
        }
      },
      "execution_count": 18,
      "outputs": [
        {
          "output_type": "stream",
          "name": "stdout",
          "text": [
            "Probabilidad de seleccionar exactamente 2  defectuosos: P(X=2)=0.3217\n"
          ]
        }
      ]
    },
    {
      "cell_type": "markdown",
      "source": [
        "\n",
        "### 5. **Distribución Uniforme Discreta**\n",
        "+ *La distribución uniforme discreta modela una situación donde todos los valores enteros posibles entre dos límites $a$ y $b$ tienen la misma probabilidad.*\n",
        "\n",
        "- **Función de probabilidad**: $$P(X = x) = \\frac{1}{b - a + 1}$$ para $x = a, a+1, \\dots, b$\n",
        "- **Parámetros**: $a$ es el límite inferior, $b$ es el límite superior.\n",
        "\n",
        "### **Distribución Uniforme Discreta - Momentos**\n",
        "- **Valor esperado (Esperanza)**: $$E(X) = \\frac{a + b}{2}$$\n",
        "- **Varianza**: $$\\text{Var}(X) = \\frac{(b - a + 1)^2 - 1}{12}$$\n",
        "- **Desviación estándar**: $$\\sigma(X) = \\sqrt{\\text{Var}(X)}$$\n"
      ],
      "metadata": {
        "id": "Wn-g9W2YrybN"
      }
    },
    {
      "cell_type": "code",
      "source": [
        "# @title **Grafica de la Uniforme Discreta** $$P(X = x) = \\frac{1}{b - a + 1}$$ para $x = a, a+1, \\dots, b$\n",
        "a, b = 1, 6\n",
        "x_uniform = np.arange(a, b + 1)\n",
        "pmf_uniform = [1 / (b - a + 1)] * len(x_uniform)\n",
        "plot_distribution(randint, x_uniform, pmf_uniform, \"Distribución Uniforme Discreta\")"
      ],
      "metadata": {
        "colab": {
          "base_uri": "https://localhost:8080/",
          "height": 472
        },
        "id": "kQirtSjG5dTV",
        "outputId": "b3b3b3c1-f28b-4509-9aba-c8e2f6c2fc12"
      },
      "execution_count": 19,
      "outputs": [
        {
          "output_type": "display_data",
          "data": {
            "text/plain": [
              "<Figure size 640x480 with 1 Axes>"
            ],
            "image/png": "[encoded data removed]"
          },
          "metadata": {}
        }
      ]
    },
    {
      "cell_type": "markdown",
      "source": [
        "\n",
        "\n",
        "#### **Ejemplo 1: - Distribución Uniforme Discreta**\n",
        "+ *Si un dado se lanza, ¿cuál es la probabilidad de obtener un número mayor que 4?*\n"
      ],
      "metadata": {
        "id": "2Toyuzq26HM8"
      }
    },
    {
      "cell_type": "code",
      "source": [
        "# @title **Solución ejemplo 1.** $$P(X = x) = \\frac{1}{b - a + 1}$$ para $x = a, a+1, \\dots, b$\n",
        "from scipy.stats import randint\n",
        "\n",
        "# Parámetros\n",
        "a, b = 1, 6  # Límite inferior y superior del dado\n",
        "k = 5  # Número mayor que 4\n",
        "\n",
        "# Probabilidad\n",
        "prob_uniform_1 = randint.pmf(k, a, b+1)\n",
        "print(f\"Probabilidad de obtener un número mayor que 4: P(X>4) = P(X=5)+P(X=6) = 2*{prob_uniform_1:.4f}= {2*prob_uniform_1:.4f}\")\n"
      ],
      "metadata": {
        "colab": {
          "base_uri": "https://localhost:8080/"
        },
        "id": "ZhTaDRYq6wC9",
        "outputId": "f1cb521a-a021-4a25-ddb3-af5efbba3c5c"
      },
      "execution_count": 20,
      "outputs": [
        {
          "output_type": "stream",
          "name": "stdout",
          "text": [
            "Probabilidad de obtener un número mayor que 4: P(X>4) = P(X=5)+P(X=6) = 2*0.1667= 0.3333\n"
          ]
        }
      ]
    },
    {
      "cell_type": "code",
      "source": [
        "# @title  **Momentos en el modelo Uniforme discreto**\n",
        "a, b = 1, 6  # Limites del dado\n",
        "\n",
        "esperanza_uniform = (a + b) / 2\n",
        "varianza_uniform = ((b - a + 1) ** 2 - 1) / 12\n",
        "desviacion_uniform = np.sqrt(varianza_uniform)\n",
        "\n",
        "print(f\"Momentos en el Modelo Uniforme Discreto\")\n",
        "print(f\"Esperanza:E(X) =  {esperanza_uniform}\")\n",
        "print(f\"Varianza: V(X) =  {varianza_uniform}\")"
      ],
      "metadata": {
        "colab": {
          "base_uri": "https://localhost:8080/"
        },
        "id": "bcBdGKR4-7Ch",
        "outputId": "71cf9902-4081-41ec-8aea-d969b303f379"
      },
      "execution_count": 21,
      "outputs": [
        {
          "output_type": "stream",
          "name": "stdout",
          "text": [
            "Momentos en el Modelo Uniforme Discreto\n",
            "Esperanza:E(X) =  3.5\n",
            "Varianza: V(X) =  2.9166666666666665\n"
          ]
        }
      ]
    },
    {
      "cell_type": "markdown",
      "source": [
        "\n",
        "#### **Ejemplo 2:- Distribución Uniforme Discreta - Debes realizarlo en este Laboratorio**\n",
        "+ *Se selecciona un número al azar entre 1 y 20. ¿Cuál es la probabilidad de obtener un número par?*\n"
      ],
      "metadata": {
        "id": "EmXLjlBNwpe8"
      }
    },
    {
      "cell_type": "code",
      "source": [
        "# prompt: genera un codigo que resuelva este problema con la ditribucion unifome discreta Se selecciona un número al azar entre 1 y 20. ¿Cuál es la probabilidad de obtener un número par?\n",
        "\n",
        "# Parámetros\n",
        "a, b = 1, 20  # Límite inferior y superior\n",
        "# Los números pares entre 1 y 20 son: 2, 4, 6, 8, 10, 12, 14, 16, 18, 20. Son 10 números pares.\n",
        "pares = [x for x in range(a, b + 1) if x % 2 == 0]\n",
        "# La probabilidad de obtener cualquier número individual es 1 / (b - a + 1)\n",
        "prob_por_numero = 1 / (b - a + 1)\n",
        "# La probabilidad de obtener un número par es la suma de las probabilidades de cada número par.\n",
        "prob_pares = len(pares) * prob_por_numero\n",
        "\n",
        "print(f\"Los números seleccionables son del {a} al {b}.\")\n",
        "print(f\"Los números pares en este rango son: {pares}\")\n",
        "print(f\"La probabilidad de obtener un número par es: P(Número Par) = {prob_pares:.4f}\")"
      ],
      "metadata": {
        "id": "wwCqGgofhmrw",
        "outputId": "89a86119-1ede-4eaf-96d2-4e626c69e975",
        "colab": {
          "base_uri": "https://localhost:8080/"
        }
      },
      "execution_count": 22,
      "outputs": [
        {
          "output_type": "stream",
          "name": "stdout",
          "text": [
            "Los números seleccionables son del 1 al 20.\n",
            "Los números pares en este rango son: [2, 4, 6, 8, 10, 12, 14, 16, 18, 20]\n",
            "La probabilidad de obtener un número par es: P(Número Par) = 0.5000\n"
          ]
        }
      ]
    }
  ]
}